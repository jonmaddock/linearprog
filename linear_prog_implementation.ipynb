{
 "cells": [
  {
   "cell_type": "markdown",
   "metadata": {},
   "source": [
    "# Linear Programming Implementation in Python\n",
    "\n",
    "*These notes are based on a tutorial from [RealPython](https://realpython.com/linear-programming-python/).*\n",
    "\n",
    "Two packages will be used:\n",
    "1. SciPy: general-purpose scientific computing package\n",
    "1. PuLP: linear programming API\n",
    "\n",
    "## Using SciPy\n",
    "\n",
    "To define and solve linear optimisation problems using `scipy`, `scipy.optimize.linprog()` will be used."
   ]
  },
  {
   "cell_type": "code",
   "execution_count": 68,
   "metadata": {},
   "outputs": [],
   "source": [
    "from scipy.optimize import linprog\n"
   ]
  },
  {
   "cell_type": "markdown",
   "metadata": {},
   "source": [
    "### Example 1\n",
    "\n",
    "Returning to the first simple example in the `linear_prog_theory` notebook:\n",
    "\n",
    "Find the independent **decision variables** $x$ and $y$ which maximise the objective function $z$:\n",
    "$$\n",
    "z = x + 2y\n",
    "$$\n",
    "\n",
    "Subject to the **inequality constraints**:\n",
    "$$\n",
    "2x + y \\leq 20\\\\\n",
    "-4x + 5y \\leq 10\\\\\n",
    "-x + 2y \\geq -2\\\\\n",
    "-x + 5y = 15\\\\\n",
    "x \\geq 0\\\\\n",
    "y \\geq 0\n",
    "$$\n",
    "\n",
    "`linprog()` only accepts minimisation problems and also doesn't accept inequality constraints with the $\\geq$ sign. To work around this, instead of maximising the objective function, its negative can be minimised instead. $\\geq$ equations can be multiplied by $-1$ to be obtained in their $\\leq$ form. This results in:\n",
    "\n",
    "Find the independent **decision variables** $x$ and $y$ which minimise the objective function $z$:\n",
    "$$\n",
    "-z = -x - 2y\n",
    "$$\n",
    "\n",
    "Subject to the **inequality constraints**:\n",
    "$$\n",
    "2x + y \\leq 20\\\\\n",
    "-4x + 5y \\leq 10\\\\\n",
    "x - 2y \\leq 2\\\\\n",
    "-x + 5y = 15\\\\\n",
    "x \\geq 0\\\\\n",
    "y \\geq 0\n",
    "$$\n",
    "\n",
    "This re-expressed system is equivalent to the original and will have the same solution. Now that the problem is formulated for `linprog()`, it can be implemented:\n",
    "\n",
    "```python"
   ]
  },
  {
   "cell_type": "code",
   "execution_count": 69,
   "metadata": {},
   "outputs": [],
   "source": [
    "# Objective function coefficients for x, y\n",
    "obj = [-1, -2]\n",
    "\n",
    "# Inequality constraint coefficients x, y for LHS of inequalities 1, 2 and 3\n",
    "lhs_ineq = [[2, 1], [-4, 5], [1, -2]]\n",
    "\n",
    "# Inequality constraint constants for RHS of inequalities 1, 2 and 3\n",
    "rhs_ineq = [20, 10, 2]\n",
    "\n",
    "# Equality coefficients for x and y, LHS\n",
    "lhs_eq = [[-1, 5]]\n",
    "\n",
    "# Equality constants, RHS\n",
    "rhs_eq = [15]\n"
   ]
  },
  {
   "cell_type": "markdown",
   "metadata": {},
   "source": [
    "These can be expressed as lists, tuples or numpy arrays. Each row represents one constraint, and hence the order of the rows for the LHS and RHS of the constraints must be the same. Similarly, each column represents a decision variable, and therefore the order of the coefficients in the objective function and LHS of the constraints must match.\n",
    "\n",
    "Next, the bounds for each decision variable need to be defined (in the same order as the coefficients):"
   ]
  },
  {
   "cell_type": "code",
   "execution_count": 70,
   "metadata": {},
   "outputs": [],
   "source": [
    "# Upper and lower bounds of x, y\n",
    "bnd = [(0, float(\"inf\")), (0, float(\"inf\"))]\n"
   ]
  },
  {
   "cell_type": "markdown",
   "metadata": {},
   "source": [
    "Then `linprog()` can be run to solve and optimise the problem:"
   ]
  },
  {
   "cell_type": "code",
   "execution_count": 71,
   "metadata": {},
   "outputs": [
    {
     "data": {
      "text/plain": [
       "     con: array([1.77635684e-15])\n",
       "     fun: -16.818181818181817\n",
       " message: 'Optimization terminated successfully.'\n",
       "     nit: 3\n",
       "   slack: array([ 0.        , 18.18181818,  3.36363636])\n",
       "  status: 0\n",
       " success: True\n",
       "       x: array([7.72727273, 4.54545455])"
      ]
     },
     "execution_count": 71,
     "metadata": {},
     "output_type": "execute_result"
    }
   ],
   "source": [
    "opt = linprog(\n",
    "    c=obj,  # coefficients from objective function\n",
    "    A_ub=lhs_ineq,\n",
    "    b_ub=rhs_ineq,\n",
    "    A_eq=lhs_eq,\n",
    "    b_eq=rhs_eq,\n",
    "    bounds=bnd,\n",
    "    method=\"revised simplex\",\n",
    ")\n",
    "\n",
    "opt  # Returned optimisation object\n"
   ]
  },
  {
   "cell_type": "markdown",
   "metadata": {},
   "source": [
    "- `con`: equality constraints residuals\n",
    "- `fun`: objective function value at optimum (if found)\n",
    "- `message`: status of the solution\n",
    "- `nit`: number of iterations\n",
    "- `slack`: values of the slack variables; the differences between the values on the left and right sides of the constraints\n",
    "- `status`: status of solution; 0 when optimal solution is found\n",
    "- `success`: Boolean indicating when optimal solution has been found\n",
    "- `x`: numpy array holding optimal values of decision variables"
   ]
  },
  {
   "cell_type": "code",
   "execution_count": 72,
   "metadata": {},
   "outputs": [
    {
     "name": "stdout",
     "output_type": "stream",
     "text": [
      "Minimum value of the objective function: -16.818181818181817\n",
      "At x = 7.727272727272727 and y = 4.545454545454545\n"
     ]
    }
   ],
   "source": [
    "# Solution info:\n",
    "print(f\"Minimum value of the objective function: {opt.fun}\")\n",
    "print(f\"At x = {opt.x[0]} and y = {opt.x[1]}\")\n"
   ]
  },
  {
   "cell_type": "markdown",
   "metadata": {},
   "source": [
    "\n",
    "The solution (optimal values of $x$ and $y$ variables) can then be plotted:"
   ]
  },
  {
   "cell_type": "code",
   "execution_count": 73,
   "metadata": {},
   "outputs": [
    {
     "data": {
      "text/plain": [
       "[<matplotlib.lines.Line2D at 0x7f6ec55d7be0>]"
      ]
     },
     "execution_count": 73,
     "metadata": {},
     "output_type": "execute_result"
    },
    {
     "data": {
      "image/png": "[encoded data removed]",
      "text/plain": [
       "<Figure size 432x288 with 1 Axes>"
      ]
     },
     "metadata": {
      "needs_background": "light"
     },
     "output_type": "display_data"
    }
   ],
   "source": [
    "import numpy as np\n",
    "import matplotlib.pyplot as plt\n",
    "\n",
    "\n",
    "def plot_example_1():\n",
    "    x = np.linspace(0, 10)\n",
    "\n",
    "    constr_a = 20 - 2 * x\n",
    "    constr_b = (10 + 4 * x) / 5\n",
    "    constr_c = (-2 + x) / 2\n",
    "\n",
    "    fig, ax = plt.subplots()\n",
    "    ax.set_title(\"Linear programming optmisation with scipy.optimize.linprog()\")\n",
    "    ax.set_ylabel(\"y\")\n",
    "    ax.set_xlabel(\"x\")\n",
    "    ax.set_xlim(xmin=x[0], xmax=x[-1])\n",
    "    ax.set_ylim(0, 10)\n",
    "    ax.plot(x, constr_a, \"r\")\n",
    "    ax.fill_between(x, constr_a, max(constr_a), facecolor=\"r\", alpha=0.3)\n",
    "    ax.plot(x, constr_b, \"b\")\n",
    "    ax.fill_between(x, constr_b, max(constr_b), facecolor=\"b\", alpha=0.3)\n",
    "    ax.plot(x, constr_c, \"y\")\n",
    "    ax.fill_between(x, constr_c, 0, facecolor=\"y\", alpha=0.3)\n",
    "\n",
    "    return fig, ax, x\n",
    "\n",
    "\n",
    "fig, ax, x = plot_example_1()\n",
    "constr_d = 3 + (x / 5)\n",
    "ax.plot(x, constr_d, \"g\")\n",
    "\n",
    "# Add solution with green point\n",
    "ax.plot(opt.x[0], opt.x[1], \"go\")\n"
   ]
  },
  {
   "cell_type": "markdown",
   "metadata": {},
   "source": [
    "The optimal solutions to linear programming problems lie at the vertices of feasible regions. In this case, the feasible region is defined as the section of the green line between the blue and red lines. The optimal solution is the intersection of the green and red lines, represented by the green circle.\n",
    "\n",
    "Dropping the equality constraints `A_eq` and `b_eq` from the `linprog()` call results in:"
   ]
  },
  {
   "cell_type": "code",
   "execution_count": 74,
   "metadata": {},
   "outputs": [
    {
     "data": {
      "text/plain": [
       "[<matplotlib.lines.Line2D at 0x7f6ead4128e0>]"
      ]
     },
     "execution_count": 74,
     "metadata": {},
     "output_type": "execute_result"
    },
    {
     "data": {
      "image/png": "[encoded data removed]",
      "text/plain": [
       "<Figure size 432x288 with 1 Axes>"
      ]
     },
     "metadata": {
      "needs_background": "light"
     },
     "output_type": "display_data"
    }
   ],
   "source": [
    "opt = linprog(\n",
    "    c=obj,\n",
    "    A_ub=lhs_ineq,\n",
    "    b_ub=rhs_ineq,\n",
    "    bounds=bnd,\n",
    "    method=\"revised simplex\",\n",
    ")\n",
    "\n",
    "fig, ax, x = plot_example_1()\n",
    "\n",
    "# Add solution with green point\n",
    "ax.plot(opt.x[0], opt.x[1], \"go\")\n"
   ]
  },
  {
   "cell_type": "markdown",
   "metadata": {},
   "source": [
    "The optimal solution (green point) is now at the vertex of the white feasible region defined by the blue and red constraints intersect. Other vertices, such as the red-yellow intersection, have a higher value for the objective function, and are therefore not the optimal solution.\n",
    "\n",
    "## Example 2\n",
    "\n",
    "SciPy can be used to solve the slightly more involved resource allocation problem defined in the previous theory notebook.\n",
    "\n",
    "\\begin{equation}\n",
    "z = 20x_1 + 12x_2 + 40x_3 + 25x_4 \\tag{profit}\n",
    "\\end{equation}\n",
    "\\begin{equation}\n",
    "x_1 + x_2 + x_3 + x_4 <= 50 \\tag{manpower}\n",
    "\\end{equation}\n",
    "\\begin{equation}\n",
    "3x_1 + 2x_2 + x_3 <= 100 \\tag{material A}\n",
    "\\end{equation}\n",
    "\\begin{equation}\n",
    "x_2 + 2x_3 + 3x_4 <= 90 \\tag{material B}\n",
    "\\end{equation}\n",
    "\\begin{equation*}\n",
    "x_1, x_2, x_3, x_4 >= 0\n",
    "\\end{equation*}"
   ]
  },
  {
   "cell_type": "code",
   "execution_count": 75,
   "metadata": {},
   "outputs": [
    {
     "data": {
      "text/plain": [
       "     con: array([], dtype=float64)\n",
       "     fun: -1900.0\n",
       " message: 'Optimization terminated successfully.'\n",
       "     nit: 2\n",
       "   slack: array([ 0., 40.,  0.])\n",
       "  status: 0\n",
       " success: True\n",
       "       x: array([ 5.,  0., 45.,  0.])"
      ]
     },
     "execution_count": 75,
     "metadata": {},
     "output_type": "execute_result"
    }
   ],
   "source": [
    "obj = [-20, -12, -40, -25]\n",
    "lhs_ineq = [[1, 1, 1, 1], [3, 2, 1, 0], [0, 1, 2, 3]]\n",
    "rhs_ineq = [50, 100, 90]\n",
    "opt = linprog(c=obj, A_ub=lhs_ineq, b_ub=rhs_ineq, method=\"revised simplex\")\n",
    "opt\n"
   ]
  },
  {
   "cell_type": "markdown",
   "metadata": {},
   "source": [
    "The optimal feasible solution is found with a maximum profit of `1900` at $x_1 = 5$ and $x_3 = 45$. It's not profitable to produce the second and fourth products. Other conclusions are:\n",
    "\n",
    "1. The third product brings the largest profit per unit (40), so it is produced the most\n",
    "1. The first slack value is 0, which means the LHS and RHS of the first constraint (manpower) are the same. The factory produces 50 units per day, which is full capacity\n",
    "1. The second slack value is 40, meaning that the factory consumes 60 units of material A out of a possible 100. Product 1 consumes 15 units of material A in total, and product 3 consumes 45\n",
    "1. The third slace is 0, meaning that all available 90 units of material B are consumed. It is all used by the third product. The second and fourth product aren't produced at all as there is no material B left over.\n",
    "\n",
    "### Limitations of SciPy\n",
    "\n",
    "Linear programming with SciPy has some limitations:\n",
    "- SciPy can't run other external solvers\n",
    "- Can't use integer decision variables\n",
    "- No classes for help with model building; manual array and matrix entry required. This can be confusing and error-prone in more complex problems\n",
    "- Maximisation problems always need to be converted to minimisation ones\n",
    "- Constraints must always be formulated used less-than-or-equal-to signs\n",
    "\n",
    "For more complex problems, PuLP is recommended.\n",
    "\n",
    "## PuLP\n",
    "\n",
    "PuLP has a more convenient API for linear programming that doesn't require vectors and matricies. \n",
    "\n",
    "### Example 1\n",
    "\n",
    "Returning to the first example:\n",
    "\n",
    "Find the independent **decision variables** $x$ and $y$ which maximise the objective function $z$:\n",
    "$$\n",
    "z = x + 2y\n",
    "$$\n",
    "\n",
    "Subject to the **inequality constraints**:\n",
    "$$\n",
    "2x + y \\leq 20\\\\\n",
    "-4x + 5y \\leq 10\\\\\n",
    "-x + 2y \\geq -2\\\\\n",
    "-x + 5y = 15\\\\\n",
    "x \\geq 0\\\\\n",
    "y \\geq 0\n",
    "$$\n",
    "\n",
    "Now initialise `LpProblem` to represent the model:"
   ]
  },
  {
   "cell_type": "code",
   "execution_count": 76,
   "metadata": {},
   "outputs": [],
   "source": [
    "import pulp as pl\n",
    "\n",
    "# Create model\n",
    "model = pl.LpProblem(name=\"small_problem\", sense=pl.const.LpMaximize)\n",
    "\n",
    "# Initialise decision variables\n",
    "x = pl.LpVariable(name=\"x\", lowBound=0)\n",
    "y = pl.LpVariable(name=\"y\", lowBound=0)\n"
   ]
  },
  {
   "cell_type": "markdown",
   "metadata": {},
   "source": [
    "The instances of `LpVariable` can then be used to define other PuLP objects, such as linear expressions and constraints:"
   ]
  },
  {
   "cell_type": "code",
   "execution_count": 77,
   "metadata": {},
   "outputs": [
    {
     "name": "stdout",
     "output_type": "stream",
     "text": [
      "<class 'pulp.pulp.LpAffineExpression'>\n",
      "<class 'pulp.pulp.LpConstraint'>\n"
     ]
    }
   ],
   "source": [
    "expression = 2 * x + 4 * y\n",
    "print(type(expression))\n",
    "constraint = 2 * x + 4 * y >= 8\n",
    "print(type(constraint))\n"
   ]
  },
  {
   "cell_type": "markdown",
   "metadata": {},
   "source": [
    "PuLP can detect the difference between an expression and a constraint by the presence of a comparison operator (`==`, `<=` or `>=`). It's therefore possible to define the objective function and constraints and add them to the model without creating lists or matrices."
   ]
  },
  {
   "cell_type": "code",
   "execution_count": 78,
   "metadata": {},
   "outputs": [],
   "source": [
    "# Add the constraints to the model\n",
    "model += (2 * x + y <= 20, \"red_constraint\")\n",
    "model += (4 * x - 5 * y >= -10, \"blue_constraint\")\n",
    "model += (-x + 2 * y >= -2, \"yellow_constraint\")\n",
    "model += (-x + 5 * y == 15, \"green_constraint\")\n"
   ]
  },
  {
   "cell_type": "markdown",
   "metadata": {},
   "source": [
    "`LpProblem` allows you to add constraints to the model by speicfying them as tuples, with the first argument as a `LpConstraint` instance and the second as a name. Now add the objective function:"
   ]
  },
  {
   "cell_type": "code",
   "execution_count": 79,
   "metadata": {},
   "outputs": [
    {
     "data": {
      "text/plain": [
       "small_problem:\n",
       "MAXIMIZE\n",
       "1*x + 2*y + 0\n",
       "SUBJECT TO\n",
       "red_constraint: 2 x + y <= 20\n",
       "\n",
       "blue_constraint: 4 x - 5 y >= -10\n",
       "\n",
       "yellow_constraint: - x + 2 y >= -2\n",
       "\n",
       "green_constraint: - x + 5 y = 15\n",
       "\n",
       "VARIABLES\n",
       "x Continuous\n",
       "y Continuous"
      ]
     },
     "execution_count": 79,
     "metadata": {},
     "output_type": "execute_result"
    }
   ],
   "source": [
    "# Add objective function to model\n",
    "model += x + 2 * y\n",
    "model\n"
   ]
  },
  {
   "cell_type": "code",
   "execution_count": 80,
   "metadata": {},
   "outputs": [
    {
     "name": "stdout",
     "output_type": "stream",
     "text": [
      "Welcome to the CBC MILP Solver \n",
      "Version: 2.10.3 \n",
      "Build Date: Dec 15 2019 \n",
      "\n",
      "command line - /home/jon/code/linearprog/.venv/lib/python3.8/site-packages/pulp/apis/../solverdir/cbc/linux/64/cbc /tmp/5ad8983e1a4341469d2b9cf0dd1f32fb-pulp.mps max timeMode elapsed branch printingOptions all solution /tmp/5ad8983e1a4341469d2b9cf0dd1f32fb-pulp.sol (default strategy 1)\n",
      "At line 2 NAME          MODEL\n",
      "At line 3 ROWS\n",
      "At line 9 COLUMNS\n",
      "At line 20 RHS\n",
      "At line 25 BOUNDS\n",
      "At line 26 ENDATA\n",
      "Problem MODEL has 4 rows, 2 columns and 8 elements\n",
      "Coin0008I MODEL read with 0 errors\n",
      "Option for timeMode changed from cpu to elapsed\n",
      "Presolve 0 (-4) rows, 0 (-2) columns and 0 (-8) elements\n",
      "Empty problem - 0 rows, 0 columns and 0 elements\n",
      "Optimal - objective value 16.818182\n",
      "After Postsolve, objective 16.818182, infeasibilities - dual 0 (0), primal 0 (0)\n",
      "Optimal objective 16.81818182 - 0 iterations time 0.002, Presolve 0.00\n",
      "Option for printingOptions changed from normal to all\n",
      "Total time (CPU seconds):       0.00   (Wallclock seconds):       0.00\n",
      "\n"
     ]
    }
   ],
   "source": [
    "# Solve the problem\n",
    "status = model.solve()\n"
   ]
  },
  {
   "cell_type": "markdown",
   "metadata": {},
   "source": [
    "The optimisation results can be accessed as attributes of `model`:"
   ]
  },
  {
   "cell_type": "code",
   "execution_count": 81,
   "metadata": {},
   "outputs": [
    {
     "name": "stdout",
     "output_type": "stream",
     "text": [
      "status: 1, Optimal\n",
      "objective value: 16.8181817\n",
      "Optimal values of decision variables:\n",
      "x: 7.7272727\n",
      "y: 4.5454545\n",
      "Slack values of constraints:\n",
      "red_constraint: -9.99999993922529e-08\n",
      "blue_constraint: 18.181818300000003\n",
      "yellow_constraint: 3.3636362999999996\n",
      "green_constraint: -2.0000000233721948e-07\n"
     ]
    }
   ],
   "source": [
    "print(f\"status: {model.status}, {pl.LpStatus[model.status]}\")\n",
    "print(f\"objective value: {model.objective.value()}\")\n",
    "print(\"Optimal values of decision variables:\")\n",
    "for var in model.variables():\n",
    "    print(f\"{var.name}: {var.value()}\")\n",
    "\n",
    "print(\"Slack values of constraints:\")\n",
    "for name, constraint in model.constraints.items():\n",
    "    print(f\"{name}: {constraint.value()}\")\n"
   ]
  },
  {
   "cell_type": "markdown",
   "metadata": {},
   "source": [
    "These results are similar to the ones obtained using SciPy.\n",
    "\n",
    "### Mixed-integer problems with PuLP\n",
    "\n",
    "Mixed-integer linear programming problems can be solved by PuLP, using `LpVariable` with `cat=\"Integer\"` or `cat=\"Binary\"`."
   ]
  },
  {
   "cell_type": "code",
   "execution_count": 82,
   "metadata": {},
   "outputs": [
    {
     "name": "stdout",
     "output_type": "stream",
     "text": [
      "Welcome to the CBC MILP Solver \n",
      "Version: 2.10.3 \n",
      "Build Date: Dec 15 2019 \n",
      "\n",
      "command line - /home/jon/code/linearprog/.venv/lib/python3.8/site-packages/pulp/apis/../solverdir/cbc/linux/64/cbc /tmp/df04c127f227467f9040c52d5997d3db-pulp.mps max timeMode elapsed branch printingOptions all solution /tmp/df04c127f227467f9040c52d5997d3db-pulp.sol (default strategy 1)\n",
      "At line 2 NAME          MODEL\n",
      "At line 3 ROWS\n",
      "At line 9 COLUMNS\n",
      "At line 22 RHS\n",
      "At line 27 BOUNDS\n",
      "At line 29 ENDATA\n",
      "Problem MODEL has 4 rows, 2 columns and 8 elements\n",
      "Coin0008I MODEL read with 0 errors\n",
      "Option for timeMode changed from cpu to elapsed\n",
      "Continuous objective value is 16.8182 - 0.00 seconds\n",
      "Cgl0004I processed model has 0 rows, 0 columns (0 integer (0 of which binary)) and 0 elements\n",
      "Cbc3007W No integer variables - nothing to do\n",
      "Cuts at root node changed objective from -15.8 to -1.79769e+308\n",
      "Probing was tried 0 times and created 0 cuts of which 0 were active after adding rounds of cuts (0.000 seconds)\n",
      "Gomory was tried 0 times and created 0 cuts of which 0 were active after adding rounds of cuts (0.000 seconds)\n",
      "Knapsack was tried 0 times and created 0 cuts of which 0 were active after adding rounds of cuts (0.000 seconds)\n",
      "Clique was tried 0 times and created 0 cuts of which 0 were active after adding rounds of cuts (0.000 seconds)\n",
      "MixedIntegerRounding2 was tried 0 times and created 0 cuts of which 0 were active after adding rounds of cuts (0.000 seconds)\n",
      "FlowCover was tried 0 times and created 0 cuts of which 0 were active after adding rounds of cuts (0.000 seconds)\n",
      "TwoMirCuts was tried 0 times and created 0 cuts of which 0 were active after adding rounds of cuts (0.000 seconds)\n",
      "ZeroHalf was tried 0 times and created 0 cuts of which 0 were active after adding rounds of cuts (0.000 seconds)\n",
      "\n",
      "Result - Optimal solution found\n",
      "\n",
      "Objective value:                15.80000000\n",
      "Enumerated nodes:               0\n",
      "Total iterations:               0\n",
      "Time (CPU seconds):             0.00\n",
      "Time (Wallclock seconds):       0.00\n",
      "\n",
      "Option for printingOptions changed from normal to all\n",
      "Total time (CPU seconds):       0.00   (Wallclock seconds):       0.00\n",
      "\n"
     ]
    }
   ],
   "source": [
    "# Create the model\n",
    "model = pl.LpProblem(name=\"small-problem\", sense=pl.const.LpMaximize)\n",
    "\n",
    "# Initialise the decision variables: x is integer, y is continuous\n",
    "x = pl.LpVariable(name=\"x\", lowBound=0, cat=\"Integer\")\n",
    "y = pl.LpVariable(name=\"y\", lowBound=0)\n",
    "\n",
    "# Add the constraints to the model\n",
    "model += (2 * x + y <= 20, \"red_constraint\")\n",
    "model += (4 * x - 5 * y >= -10, \"blue_constraint\")\n",
    "model += (-x + 2 * y >= -2, \"yellow_constraint\")\n",
    "model += (-x + 5 * y == 15, \"green_constraint\")\n",
    "\n",
    "# Add the objective function to the model\n",
    "model += pl.lpSum([x, 2 * y])\n",
    "\n",
    "# Solve the problem\n",
    "status = model.solve()\n"
   ]
  },
  {
   "cell_type": "code",
   "execution_count": 83,
   "metadata": {},
   "outputs": [
    {
     "name": "stdout",
     "output_type": "stream",
     "text": [
      "status: 1, Optimal\n",
      "objective value: 15.8\n",
      "Optimal values of decision variables:\n",
      "x: 7.0\n",
      "y: 4.4\n",
      "Slack values of constraints:\n",
      "red_constraint: -1.5999999999999996\n",
      "blue_constraint: 16.0\n",
      "yellow_constraint: 3.8000000000000007\n",
      "green_constraint: 0.0\n"
     ]
    }
   ],
   "source": [
    "def print_results(model):\n",
    "    print(f\"status: {model.status}, {pl.LpStatus[model.status]}\")\n",
    "    print(f\"objective value: {model.objective.value()}\")\n",
    "    print(\"Optimal values of decision variables:\")\n",
    "    for var in model.variables():\n",
    "        print(f\"{var.name}: {var.value()}\")\n",
    "\n",
    "    print(\"Slack values of constraints:\")\n",
    "    for name, constraint in model.constraints.items():\n",
    "        print(f\"{name}: {constraint.value()}\")\n",
    "\n",
    "print_results(model)\n"
   ]
  },
  {
   "cell_type": "markdown",
   "metadata": {},
   "source": [
    "Now $x$ is an integer, the solution changes:"
   ]
  },
  {
   "cell_type": "code",
   "execution_count": 84,
   "metadata": {},
   "outputs": [
    {
     "data": {
      "text/plain": [
       "[<matplotlib.lines.Line2D at 0x7f6ead3ad880>]"
      ]
     },
     "execution_count": 84,
     "metadata": {},
     "output_type": "execute_result"
    },
    {
     "data": {
      "image/png": "[encoded data removed]",
      "text/plain": [
       "<Figure size 432x288 with 1 Axes>"
      ]
     },
     "metadata": {
      "needs_background": "light"
     },
     "output_type": "display_data"
    }
   ],
   "source": [
    "fig, ax, x = plot_example_1()\n",
    "ax.set_title(\"Linear programming optimisation with PuLP\")\n",
    "\n",
    "# Plot green integer constraint\n",
    "x_int = np.arange(0, 11, 1)\n",
    "constr_d_int = 3 + (x_int / 5)\n",
    "ax.plot(x_int, constr_d_int, \"go\")\n",
    "\n",
    "# Highlight optimal mixed-integer solution\n",
    "vars = model.variables()\n",
    "ax.plot(vars[0].value(), vars[1].value(), \"mo\")\n"
   ]
  },
  {
   "cell_type": "markdown",
   "metadata": {},
   "source": [
    "The magenta point is the optimal feasible solution; the largest values of both $x$ and $y$, giving the largest possible value of the objective function.\n",
    "\n",
    "### Example 2\n",
    "\n",
    "Now PuLP can be used to solve the previous resource allocation problem again."
   ]
  },
  {
   "cell_type": "code",
   "execution_count": 92,
   "metadata": {},
   "outputs": [
    {
     "name": "stdout",
     "output_type": "stream",
     "text": [
      "Welcome to the CBC MILP Solver \n",
      "Version: 2.10.3 \n",
      "Build Date: Dec 15 2019 \n",
      "\n",
      "command line - /home/jon/code/linearprog/.venv/lib/python3.8/site-packages/pulp/apis/../solverdir/cbc/linux/64/cbc /tmp/533cffe942bd487a89649000b8c5bf19-pulp.mps max timeMode elapsed branch printingOptions all solution /tmp/533cffe942bd487a89649000b8c5bf19-pulp.sol (default strategy 1)\n",
      "At line 2 NAME          MODEL\n",
      "At line 3 ROWS\n",
      "At line 8 COLUMNS\n",
      "At line 23 RHS\n",
      "At line 27 BOUNDS\n",
      "At line 28 ENDATA\n",
      "Problem MODEL has 3 rows, 4 columns and 10 elements\n",
      "Coin0008I MODEL read with 0 errors\n",
      "Option for timeMode changed from cpu to elapsed\n",
      "Presolve 3 (0) rows, 4 (0) columns and 10 (0) elements\n",
      "0  Obj -0 Dual inf 97 (4)\n",
      "0  Obj -0 Dual inf 97 (4)\n",
      "2  Obj 1900\n",
      "Optimal - objective value 1900\n",
      "Optimal objective 1900 - 2 iterations time 0.002\n",
      "Option for printingOptions changed from normal to all\n",
      "Total time (CPU seconds):       0.00   (Wallclock seconds):       0.00\n",
      "\n"
     ]
    }
   ],
   "source": [
    "# Define model\n",
    "model = pl.LpProblem(name=\"resource_allocation\", sense=pl.const.LpMaximize)\n",
    "\n",
    "# Define decision variables\n",
    "x = {i: pl.LpVariable(name=f\"x{i}\", lowBound=0) for i in range(1,5)}\n",
    "\n",
    "# Add constraints\n",
    "model += (pl.lpSum(x.values()) <= 50, \"manpower\")\n",
    "model += (3*x[1]+2*x[2]+x[3] <= 100, \"material_a\")\n",
    "model+=(x[2]+2*x[3]+3*x[4] <=90, \"material_b\")\n",
    "\n",
    "# Define objective function\n",
    "model += 20*x[1]+12*x[2]+40*x[3]+25*x[4]\n",
    "\n",
    "# Solve optimisation problem\n",
    "status = model.solve()\n"
   ]
  },
  {
   "cell_type": "code",
   "execution_count": 93,
   "metadata": {},
   "outputs": [
    {
     "name": "stdout",
     "output_type": "stream",
     "text": [
      "status: 1, Optimal\n",
      "objective value: 1900.0\n",
      "Optimal values of decision variables:\n",
      "x1: 5.0\n",
      "x2: 0.0\n",
      "x3: 45.0\n",
      "x4: 0.0\n",
      "Slack values of constraints:\n",
      "manpower: 0.0\n",
      "material_a: -40.0\n",
      "material_b: 0.0\n"
     ]
    }
   ],
   "source": [
    "# Print results\n",
    "print_results(model)"
   ]
  },
  {
   "cell_type": "markdown",
   "metadata": {},
   "source": [
    "This solution is the same as achieved with SciPy. The most profitable solution produces 5 of product 1 and 45 of product 3 per day.\n",
    "\n",
    "Suppose the factory can't produce products 1 and 3 in parallel due to a machinery issue. What's the optimal solution now?\n",
    "\n",
    "If $x_1$ is positive, then $x_3$ must be 0 and vice versa. This can be represented using binary decision variables, $y_1$ and $y_3$, which indicate whether $x_1$ and $x_3$ are produced."
   ]
  },
  {
   "cell_type": "code",
   "execution_count": 95,
   "metadata": {},
   "outputs": [
    {
     "name": "stdout",
     "output_type": "stream",
     "text": [
      "Welcome to the CBC MILP Solver \n",
      "Version: 2.10.3 \n",
      "Build Date: Dec 15 2019 \n",
      "\n",
      "command line - /home/jon/code/linearprog/.venv/lib/python3.8/site-packages/pulp/apis/../solverdir/cbc/linux/64/cbc /tmp/96378f12ef12462a8b9464867de9a582-pulp.mps max timeMode elapsed branch printingOptions all solution /tmp/96378f12ef12462a8b9464867de9a582-pulp.sol (default strategy 1)\n",
      "At line 2 NAME          MODEL\n",
      "At line 3 ROWS\n",
      "At line 11 COLUMNS\n",
      "At line 36 RHS\n",
      "At line 43 BOUNDS\n",
      "At line 46 ENDATA\n",
      "Problem MODEL has 6 rows, 6 columns and 16 elements\n",
      "Coin0008I MODEL read with 0 errors\n",
      "Option for timeMode changed from cpu to elapsed\n",
      "Continuous objective value is 1900 - 0.00 seconds\n",
      "Cgl0003I 0 fixed, 0 tightened bounds, 1 strengthened rows, 0 substitutions\n",
      "Cgl0004I processed model has 6 rows, 6 columns (2 integer (2 of which binary)) and 16 elements\n",
      "Cbc0038I Initial state - 0 integers unsatisfied sum - 4.44089e-16\n",
      "Cbc0038I Solution found of -1800\n",
      "Cbc0038I Relaxing continuous gives -1800\n",
      "Cbc0038I Before mini branch and bound, 2 integers at bound fixed and 4 continuous\n",
      "Cbc0038I Mini branch and bound did not improve solution (0.00 seconds)\n",
      "Cbc0038I After 0.00 seconds - Feasibility pump exiting with objective of -1800 - took 0.00 seconds\n",
      "Cbc0012I Integer solution of -1800 found by feasibility pump after 0 iterations and 0 nodes (0.00 seconds)\n",
      "Cbc0001I Search completed - best objective -1800, took 0 iterations and 0 nodes (0.00 seconds)\n",
      "Cbc0035I Maximum depth 0, 0 variables fixed on reduced cost\n",
      "Cuts at root node changed objective from -1800 to -1800\n",
      "Probing was tried 0 times and created 0 cuts of which 0 were active after adding rounds of cuts (0.000 seconds)\n",
      "Gomory was tried 0 times and created 0 cuts of which 0 were active after adding rounds of cuts (0.000 seconds)\n",
      "Knapsack was tried 0 times and created 0 cuts of which 0 were active after adding rounds of cuts (0.000 seconds)\n",
      "Clique was tried 0 times and created 0 cuts of which 0 were active after adding rounds of cuts (0.000 seconds)\n",
      "MixedIntegerRounding2 was tried 0 times and created 0 cuts of which 0 were active after adding rounds of cuts (0.000 seconds)\n",
      "FlowCover was tried 0 times and created 0 cuts of which 0 were active after adding rounds of cuts (0.000 seconds)\n",
      "TwoMirCuts was tried 0 times and created 0 cuts of which 0 were active after adding rounds of cuts (0.000 seconds)\n",
      "ZeroHalf was tried 0 times and created 0 cuts of which 0 were active after adding rounds of cuts (0.000 seconds)\n",
      "\n",
      "Result - Optimal solution found\n",
      "\n",
      "Objective value:                1800.00000000\n",
      "Enumerated nodes:               0\n",
      "Total iterations:               0\n",
      "Time (CPU seconds):             0.00\n",
      "Time (Wallclock seconds):       0.00\n",
      "\n",
      "Option for printingOptions changed from normal to all\n",
      "Total time (CPU seconds):       0.00   (Wallclock seconds):       0.00\n",
      "\n"
     ]
    }
   ],
   "source": [
    "model = pl.LpProblem(name=\"resource_allocation\", sense=pl.LpMaximize)\n",
    "\n",
    "# Define the decision variables\n",
    "x = {i: pl.LpVariable(name=f\"x{i}\", lowBound=0) for i in range(1, 5)}\n",
    "y = {i: pl.LpVariable(name=f\"y{i}\", cat=\"Binary\") for i in (1, 3)}\n",
    "\n",
    "# Add constraints\n",
    "model += (pl.lpSum(x.values()) <= 50, \"manpower\")\n",
    "model += (3 * x[1] + 2 * x[2] + x[3] <= 100, \"material_a\")\n",
    "model += (x[2] + 2 * x[3] + 3 * x[4] <= 90, \"material_b\")\n",
    "\n",
    "# Arbitrarily large constant; impossible to produce > 100 units per day\n",
    "M = 100\n",
    "# if y[1] == 0, x[1] == 0\n",
    "model += (x[1] <= y[1] * M, \"x1_constraint\")\n",
    "# if y[3] == 0, x[3] == 0\n",
    "model += (x[3] <= y[3] * M, \"x3_constraint\")\n",
    "# y[1] == 0 and/or y[3] == 0, therefore x[1] == 0 and/or x[3] == 0 too\n",
    "model += (y[1] + y[3] <= 1, \"y_constraint\")\n",
    "\n",
    "# Set objective\n",
    "model += 20 * x[1] + 12 * x[2] + 40 * x[3] + 25 * x[4]\n",
    "\n",
    "# Solve the optimisation problem\n",
    "status = model.solve()"
   ]
  },
  {
   "cell_type": "code",
   "execution_count": 96,
   "metadata": {},
   "outputs": [
    {
     "name": "stdout",
     "output_type": "stream",
     "text": [
      "status: 1, Optimal\n",
      "objective value: 1800.0\n",
      "Optimal values of decision variables:\n",
      "x1: 0.0\n",
      "x2: 0.0\n",
      "x3: 45.0\n",
      "x4: 0.0\n",
      "y1: 0.0\n",
      "y3: 1.0\n",
      "Slack values of constraints:\n",
      "manpower: -5.0\n",
      "material_a: -55.0\n",
      "material_b: 0.0\n",
      "x1_constraint: 0.0\n",
      "x3_constraint: -55.0\n",
      "y_constraint: 0.0\n"
     ]
    }
   ],
   "source": [
    "print_results(model)"
   ]
  },
  {
   "cell_type": "markdown",
   "metadata": {},
   "source": [
    "The optimal solution is to not make the first product and only make the third one.\n",
    "\n",
    "## Conclusion\n",
    "\n",
    "This shows both the basic theory of linear programming optimisation problems and their implementation in Python. A simple case and a more complex, real-world problem have been explored. Additionally, mixed-integer and binary constraints have been applied. The SciPy and PuLP packages have been used to solve the optimisation problem in each case."
   ]
  }
 ],
 "metadata": {
  "interpreter": {
   "hash": "ff2dc82e25cd5786d39e8ddec89edf0560b50ce9b0abc1b766a48f136b2533f8"
  },
  "kernelspec": {
   "display_name": "Python 3.8.10 64-bit ('.venv': venv)",
   "language": "python",
   "name": "python3"
  },
  "language_info": {
   "codemirror_mode": {
    "name": "ipython",
    "version": 3
   },
   "file_extension": ".py",
   "mimetype": "text/x-python",
   "name": "python",
   "nbconvert_exporter": "python",
   "pygments_lexer": "ipython3",
   "version": "3.8.10"
  },
  "orig_nbformat": 4
 },
 "nbformat": 4,
 "nbformat_minor": 2
}
